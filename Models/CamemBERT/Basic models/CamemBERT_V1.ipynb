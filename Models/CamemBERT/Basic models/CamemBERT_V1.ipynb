{
  "cells": [
    {
      "cell_type": "markdown",
      "metadata": {
        "id": "QTAX98rXHZsg"
      },
      "source": [
        "# Imports"
      ]
    },
    {
      "cell_type": "markdown",
      "metadata": {
        "id": "zNb_X2ksILBv"
      },
      "source": [
        "!pip install pandas scikit-learn transformers datasets"
      ]
    },
    {
      "cell_type": "markdown",
      "metadata": {
        "id": "LzXaZ-4WNRld"
      },
      "source": [
        "!pip uninstall transformers accelerate\n",
        "!pip install transformers[torch] accelerate\n"
      ]
    },
    {
      "cell_type": "markdown",
      "metadata": {
        "id": "Sa_TR-mSN403"
      },
      "source": [
        "!pip install accelerate -U"
      ]
    },
    {
      "cell_type": "code",
      "execution_count": null,
      "metadata": {
        "id": "LP8qc6ygHZsi"
      },
      "outputs": [],
      "source": [
        "import pandas as pd\n",
        "from sklearn.preprocessing import LabelEncoder\n",
        "from transformers import CamembertTokenizer, CamembertForSequenceClassification\n",
        "from transformers import TrainingArguments, Trainer\n",
        "from sklearn.model_selection import train_test_split\n",
        "from datasets import Dataset\n",
        "from transformers import pipeline"
      ]
    },
    {
      "cell_type": "markdown",
      "metadata": {
        "id": "pbYMXTSCHZsj"
      },
      "source": [
        "## Databases"
      ]
    },
    {
      "cell_type": "code",
      "execution_count": null,
      "metadata": {
        "colab": {
          "base_uri": "https://localhost:8080/",
          "height": 458
        },
        "id": "JGIjuBNeHZsj",
        "outputId": "e1e4fd6f-2cfb-4e11-d13f-e851acf6257c"
      },
      "outputs": [],
      "source": [
        "# Import the train data\n",
        "train = pd.read_csv('https://github.com/tcastrom/CEFR-French-/raw/main/Data/training_data.csv')\n",
        "train.set_index('id', inplace=True)\n",
        "display(train.head())\n",
        "\n",
        "#Import the unlabel data\n",
        "unlabel = pd.read_csv('https://github.com/tcastrom/CEFR-French-/raw/main/Data/unlabelled_test_data.csv')\n",
        "unlabel.set_index('id', inplace=True)\n",
        "display(unlabel.head())"
      ]
    },
    {
      "cell_type": "code",
      "execution_count": null,
      "metadata": {
        "colab": {
          "base_uri": "https://localhost:8080/",
          "height": 345
        },
        "id": "MgAVwYENHZsk",
        "outputId": "17bfd667-91fe-4aab-d390-f3e4121876c3"
      },
      "outputs": [],
      "source": [
        "# Initialize the Labedncoder\n",
        "diffuculty_encoder = LabelEncoder()\n",
        "\n",
        "# Fit and transform the labels\n",
        "train['difficulty'] = diffuculty_encoder.fit_transform(train['difficulty'])\n",
        "\n",
        "# Print the classes and their corresponding encoded values\n",
        "for index, label in enumerate(diffuculty_encoder.classes_):\n",
        "    print(f'{label}: {index}')\n",
        "\n",
        "\n",
        "#Display train\n",
        "display(train.head())"
      ]
    },
    {
      "cell_type": "markdown",
      "metadata": {
        "id": "flbhTP29HZsk"
      },
      "source": [
        "# Camembert Model"
      ]
    },
    {
      "cell_type": "code",
      "execution_count": null,
      "metadata": {
        "colab": {
          "base_uri": "https://localhost:8080/"
        },
        "id": "WXVV_pZjHZsk",
        "outputId": "cfbf6849-a1aa-4af1-edc5-05fff0c5739f"
      },
      "outputs": [],
      "source": [
        "# Load the CamemBERT tokenizer and model\n",
        "tokenizer = CamembertTokenizer.from_pretrained('camembert-base')\n",
        "model = CamembertForSequenceClassification.from_pretrained('camembert-base', num_labels=6)"
      ]
    },
    {
      "cell_type": "markdown",
      "metadata": {
        "id": "wnn4rcK4HZsl"
      },
      "source": [
        "old tokenization of the data\n",
        "```py\n",
        "\n",
        "# Function to tokenize the data\n",
        "def tokenize_function(examples):\n",
        "    return tokenizer(examples['sentence'], padding=\"max_length\", truncation=True)"
      ]
    },
    {
      "cell_type": "code",
      "execution_count": null,
      "metadata": {
        "id": "krPhzsmtHZsl"
      },
      "outputs": [],
      "source": [
        "def tokenize_function(examples):\n",
        "    # Tokenize the text\n",
        "    result = tokenizer(examples['sentence'], padding=\"max_length\", truncation=True)\n",
        "    # Ensure labels are included if they exist in the examples\n",
        "    if 'difficulty' in examples:\n",
        "        result['labels'] = examples['difficulty']\n",
        "    return result"
      ]
    },
    {
      "cell_type": "code",
      "execution_count": null,
      "metadata": {
        "colab": {
          "base_uri": "https://localhost:8080/",
          "height": 207
        },
        "id": "Ingb3M10HZsm",
        "outputId": "5f163087-ab34-4b7a-e661-95a63fd780d4"
      },
      "outputs": [],
      "source": [
        "# Split the data into train and validation sets\n",
        "train_df, val_df = train_test_split(train, test_size=0.1)\n",
        "\n",
        "display(train_df.head(1))\n",
        "display(val_df.head(1))"
      ]
    },
    {
      "cell_type": "code",
      "execution_count": null,
      "metadata": {
        "colab": {
          "base_uri": "https://localhost:8080/",
          "height": 81,
          "referenced_widgets": [
            "9d70d6d449034b11bd7cbdf9ecedd4db",
            "aa1d30655e234881a80f1f1423b4c947",
            "5f2198a2d7064a9cba94e5ad1fae8786",
            "9b6221ee1658496a8df14d02e6f6ed25",
            "bfe5d3b9b6284d749952f7bec8f79098",
            "41c40144c463477abef9d69e65cacd2d",
            "904e397755f14ce08b2645cd937b865e",
            "b283af80805540dabe4a242ef6a4b381",
            "873074daca314ccb90ce623a4bf00724",
            "a53fcc409b4e4c3ea2e43527ae26e6f9",
            "9fcc296fb6c446e498bdc47b8c7c435d",
            "e6168c3f3afd405dab4db26ebfe2e928",
            "791c008207e94243a568bd3eb5b54472",
            "9625cc8427b44e9bbf909408e77169a8",
            "3773e28f5a3a442880743ab63efcdf52",
            "a42dbfeb0b464312b5510bc7972e2671",
            "de4f59feca1b4abea0387d78701d253b",
            "f9565d898aaf4360a9f58c8377950af0",
            "20d470ebc58e4a83a2d4f2f7a9050083",
            "0be78df8b4b44d319fa7b5a21a38f13a",
            "3a85b39c5c5245e7b5bb7360ecc96708",
            "fe0d929dceeb41d597c8f93f0f2f4953"
          ]
        },
        "id": "JIOar6Q_HZsm",
        "outputId": "1422ef88-e0e0-4baf-95cf-ab592f62978c"
      },
      "outputs": [],
      "source": [
        "# Convert pandas dataframe to Hugging Face dataset\n",
        "train_dataset = Dataset.from_pandas(train_df)\n",
        "val_dataset = Dataset.from_pandas(val_df)\n",
        "\n",
        "# Tokenize the data\n",
        "train_dataset = train_dataset.map(tokenize_function, batched=True)\n",
        "val_dataset = val_dataset.map(tokenize_function, batched=True)"
      ]
    },
    {
      "cell_type": "code",
      "execution_count": null,
      "metadata": {
        "id": "KkSNmb8nHZsm"
      },
      "outputs": [],
      "source": [
        "# Set up the training arguments:\n",
        "training_args = TrainingArguments(\n",
        "    output_dir='./results',          # output directory for model and logs\n",
        "    num_train_epochs=3,              # number of training epochs\n",
        "    per_device_train_batch_size=8,   # batch size for training\n",
        "    per_device_eval_batch_size=16,   # batch size for evaluation\n",
        "    warmup_steps=500,                # number of warmup steps for learning rate scheduler\n",
        "    weight_decay=0.01,               # strength of weight decay\n",
        "    logging_dir='./logs',            # directory for storing logs\n",
        "    logging_steps=10,\n",
        "    evaluation_strategy=\"epoch\"      # evaluate after each epoch\n",
        ")\n"
      ]
    },
    {
      "cell_type": "code",
      "execution_count": null,
      "metadata": {
        "id": "z0XvOQFxHZsm"
      },
      "outputs": [],
      "source": [
        "# Initialize the Trainer\n",
        "trainer = Trainer(\n",
        "    model=model,                         # the instantiated 🤗 Transformers model to be trained\n",
        "    args=training_args,                  # training arguments, defined above\n",
        "    train_dataset=train_dataset,         # training dataset\n",
        "    eval_dataset=val_dataset             # evaluation dataset\n",
        ")"
      ]
    },
    {
      "cell_type": "code",
      "execution_count": null,
      "metadata": {
        "colab": {
          "base_uri": "https://localhost:8080/",
          "height": 223
        },
        "id": "7hCUAwb_HZsn",
        "outputId": "afafb4eb-a4e7-4733-fe96-c2a3bbd81e15"
      },
      "outputs": [],
      "source": [
        "# Train the model\n",
        "trainer.train()"
      ]
    },
    {
      "cell_type": "code",
      "execution_count": null,
      "metadata": {
        "colab": {
          "base_uri": "https://localhost:8080/",
          "height": 126
        },
        "id": "yTbnT1prHZsn",
        "outputId": "a07e19a1-27df-4bdc-f809-27ccbb56852f"
      },
      "outputs": [],
      "source": [
        "# Evaluate the model\n",
        "trainer.evaluate()"
      ]
    },
    {
      "cell_type": "code",
      "execution_count": null,
      "metadata": {
        "colab": {
          "base_uri": "https://localhost:8080/"
        },
        "id": "9as5J5JEHZsn",
        "outputId": "610218fe-a9e0-4775-ee9f-3f3dfa1ec479"
      },
      "outputs": [],
      "source": [
        "# Save the model and the tokenizer in my directory\n",
        "model.save_pretrained('./saved_models/CamemBERT_V1')\n",
        "tokenizer.save_pretrained('./saved_models/CamemBERT_V1')"
      ]
    },
    {
      "cell_type": "code",
      "execution_count": null,
      "metadata": {
        "colab": {
          "base_uri": "https://localhost:8080/"
        },
        "id": "F9TliOjAHZsn",
        "outputId": "f66a396a-2465-4988-f98b-31d517370799"
      },
      "outputs": [],
      "source": [
        "# Predictions on the unlabelled data\n",
        "\n",
        "# Load the trained model\n",
        "model = CamembertForSequenceClassification.from_pretrained('./saved_models/CamemBERT_V1')\n",
        "tokenizer = CamembertTokenizer.from_pretrained('./saved_models/CamemBERT_V1')\n",
        "\n",
        "# Define the label names in the order of their corresponding indices (0 to 5)\n",
        "label_names = ['A1', 'A2', 'B1', 'B2', 'C1', 'C2']\n",
        "\n",
        "# Create a pipeline for text classification\n",
        "nlp = pipeline(\"text-classification\", model=model, tokenizer=tokenizer, return_all_scores=True)\n",
        "\n",
        "\n",
        "# Predict\n",
        "outputs = nlp(\"Je mange une pomme.\")\n",
        "\n",
        "# Decode the predictions\n",
        "predictions = [{label_names[i]: score for i, score in enumerate(output)} for output in outputs]\n",
        "print(predictions)"
      ]
    },
    {
      "cell_type": "code",
      "execution_count": null,
      "metadata": {
        "colab": {
          "base_uri": "https://localhost:8080/"
        },
        "id": "Aes7uwWoXek2",
        "outputId": "a4c8c3fa-2acc-47d8-ec16-16d5b7bde28e"
      },
      "outputs": [],
      "source": [
        "# Find the key with the highest score\n",
        "best_prediction = max(predictions[0], key=lambda key: predictions[0][key]['score'])\n",
        "\n",
        "print(\"Key with the highest score:\", best_prediction)"
      ]
    },
    {
      "cell_type": "code",
      "execution_count": null,
      "metadata": {
        "id": "mX5hGEePHZsn"
      },
      "outputs": [],
      "source": [
        "# Function to predict the difficulty of a single sentence\n",
        "def predict_difficulty(sentence):\n",
        "    results = nlp(sentence)\n",
        "    # Make the prediction for the sentence\n",
        "    predictions = [{label_names[i]: score for i, score in enumerate(result)} for result in results]\n",
        "    #Find the key with the highest score\n",
        "    best_prediction = max(predictions[0], key=lambda key: predictions[0][key]['score'])\n",
        "    return best_prediction\n",
        "\n",
        "\n",
        "# Apply the prediction function to each sentence in the 'sentence' column of unlabel DataFrame\n",
        "unlabel['difficulty'] = unlabel['sentence'].apply(predict_difficulty)\n"
      ]
    },
    {
      "cell_type": "code",
      "execution_count": null,
      "metadata": {
        "colab": {
          "base_uri": "https://localhost:8080/",
          "height": 238
        },
        "id": "oimaFJ2qTLS1",
        "outputId": "416304cd-6946-43b8-f097-cea332734a02"
      },
      "outputs": [],
      "source": [
        "display(unlabel.head())"
      ]
    },
    {
      "cell_type": "code",
      "execution_count": null,
      "metadata": {
        "id": "mN32aPn_ZY8a"
      },
      "outputs": [],
      "source": [
        "# Remove the column 'sentence'\n",
        "unlabel.drop('sentence', axis=1, inplace=True)\n",
        "\n",
        "#export the predictions to a csv file\n",
        "unlabel.to_csv('CamemBERT_V1.csv')"
      ]
    }
  ],
  "metadata": {
    "accelerator": "GPU",
    "colab": {
      "gpuType": "A100",
      "provenance": []
    },
    "kernelspec": {
      "display_name": "Python 3",
      "name": "python3"
    },
    "language_info": {
      "codemirror_mode": {
        "name": "ipython",
        "version": 3
      },
      "file_extension": ".py",
      "mimetype": "text/x-python",
      "name": "python",
      "nbconvert_exporter": "python",
      "pygments_lexer": "ipython3",
      "version": "3.11.5"
    },
    "widgets": {
      "application/vnd.jupyter.widget-state+json": {
        "0be78df8b4b44d319fa7b5a21a38f13a": {
          "model_module": "@jupyter-widgets/controls",
          "model_module_version": "1.5.0",
          "model_name": "ProgressStyleModel",
          "state": {
            "_model_module": "@jupyter-widgets/controls",
            "_model_module_version": "1.5.0",
            "_model_name": "ProgressStyleModel",
            "_view_count": null,
            "_view_module": "@jupyter-widgets/base",
            "_view_module_version": "1.2.0",
            "_view_name": "StyleView",
            "bar_color": null,
            "description_width": ""
          }
        },
        "20d470ebc58e4a83a2d4f2f7a9050083": {
          "model_module": "@jupyter-widgets/base",
          "model_module_version": "1.2.0",
          "model_name": "LayoutModel",
          "state": {
            "_model_module": "@jupyter-widgets/base",
            "_model_module_version": "1.2.0",
            "_model_name": "LayoutModel",
            "_view_count": null,
            "_view_module": "@jupyter-widgets/base",
            "_view_module_version": "1.2.0",
            "_view_name": "LayoutView",
            "align_content": null,
            "align_items": null,
            "align_self": null,
            "border": null,
            "bottom": null,
            "display": null,
            "flex": null,
            "flex_flow": null,
            "grid_area": null,
            "grid_auto_columns": null,
            "grid_auto_flow": null,
            "grid_auto_rows": null,
            "grid_column": null,
            "grid_gap": null,
            "grid_row": null,
            "grid_template_areas": null,
            "grid_template_columns": null,
            "grid_template_rows": null,
            "height": null,
            "justify_content": null,
            "justify_items": null,
            "left": null,
            "margin": null,
            "max_height": null,
            "max_width": null,
            "min_height": null,
            "min_width": null,
            "object_fit": null,
            "object_position": null,
            "order": null,
            "overflow": null,
            "overflow_x": null,
            "overflow_y": null,
            "padding": null,
            "right": null,
            "top": null,
            "visibility": null,
            "width": null
          }
        },
        "3773e28f5a3a442880743ab63efcdf52": {
          "model_module": "@jupyter-widgets/controls",
          "model_module_version": "1.5.0",
          "model_name": "HTMLModel",
          "state": {
            "_dom_classes": [],
            "_model_module": "@jupyter-widgets/controls",
            "_model_module_version": "1.5.0",
            "_model_name": "HTMLModel",
            "_view_count": null,
            "_view_module": "@jupyter-widgets/controls",
            "_view_module_version": "1.5.0",
            "_view_name": "HTMLView",
            "description": "",
            "description_tooltip": null,
            "layout": "IPY_MODEL_3a85b39c5c5245e7b5bb7360ecc96708",
            "placeholder": "​",
            "style": "IPY_MODEL_fe0d929dceeb41d597c8f93f0f2f4953",
            "value": " 480/480 [00:00&lt;00:00, 3220.71 examples/s]"
          }
        },
        "3a85b39c5c5245e7b5bb7360ecc96708": {
          "model_module": "@jupyter-widgets/base",
          "model_module_version": "1.2.0",
          "model_name": "LayoutModel",
          "state": {
            "_model_module": "@jupyter-widgets/base",
            "_model_module_version": "1.2.0",
            "_model_name": "LayoutModel",
            "_view_count": null,
            "_view_module": "@jupyter-widgets/base",
            "_view_module_version": "1.2.0",
            "_view_name": "LayoutView",
            "align_content": null,
            "align_items": null,
            "align_self": null,
            "border": null,
            "bottom": null,
            "display": null,
            "flex": null,
            "flex_flow": null,
            "grid_area": null,
            "grid_auto_columns": null,
            "grid_auto_flow": null,
            "grid_auto_rows": null,
            "grid_column": null,
            "grid_gap": null,
            "grid_row": null,
            "grid_template_areas": null,
            "grid_template_columns": null,
            "grid_template_rows": null,
            "height": null,
            "justify_content": null,
            "justify_items": null,
            "left": null,
            "margin": null,
            "max_height": null,
            "max_width": null,
            "min_height": null,
            "min_width": null,
            "object_fit": null,
            "object_position": null,
            "order": null,
            "overflow": null,
            "overflow_x": null,
            "overflow_y": null,
            "padding": null,
            "right": null,
            "top": null,
            "visibility": null,
            "width": null
          }
        },
        "41c40144c463477abef9d69e65cacd2d": {
          "model_module": "@jupyter-widgets/base",
          "model_module_version": "1.2.0",
          "model_name": "LayoutModel",
          "state": {
            "_model_module": "@jupyter-widgets/base",
            "_model_module_version": "1.2.0",
            "_model_name": "LayoutModel",
            "_view_count": null,
            "_view_module": "@jupyter-widgets/base",
            "_view_module_version": "1.2.0",
            "_view_name": "LayoutView",
            "align_content": null,
            "align_items": null,
            "align_self": null,
            "border": null,
            "bottom": null,
            "display": null,
            "flex": null,
            "flex_flow": null,
            "grid_area": null,
            "grid_auto_columns": null,
            "grid_auto_flow": null,
            "grid_auto_rows": null,
            "grid_column": null,
            "grid_gap": null,
            "grid_row": null,
            "grid_template_areas": null,
            "grid_template_columns": null,
            "grid_template_rows": null,
            "height": null,
            "justify_content": null,
            "justify_items": null,
            "left": null,
            "margin": null,
            "max_height": null,
            "max_width": null,
            "min_height": null,
            "min_width": null,
            "object_fit": null,
            "object_position": null,
            "order": null,
            "overflow": null,
            "overflow_x": null,
            "overflow_y": null,
            "padding": null,
            "right": null,
            "top": null,
            "visibility": null,
            "width": null
          }
        },
        "5f2198a2d7064a9cba94e5ad1fae8786": {
          "model_module": "@jupyter-widgets/controls",
          "model_module_version": "1.5.0",
          "model_name": "FloatProgressModel",
          "state": {
            "_dom_classes": [],
            "_model_module": "@jupyter-widgets/controls",
            "_model_module_version": "1.5.0",
            "_model_name": "FloatProgressModel",
            "_view_count": null,
            "_view_module": "@jupyter-widgets/controls",
            "_view_module_version": "1.5.0",
            "_view_name": "ProgressView",
            "bar_style": "success",
            "description": "",
            "description_tooltip": null,
            "layout": "IPY_MODEL_b283af80805540dabe4a242ef6a4b381",
            "max": 4320,
            "min": 0,
            "orientation": "horizontal",
            "style": "IPY_MODEL_873074daca314ccb90ce623a4bf00724",
            "value": 4320
          }
        },
        "791c008207e94243a568bd3eb5b54472": {
          "model_module": "@jupyter-widgets/controls",
          "model_module_version": "1.5.0",
          "model_name": "HTMLModel",
          "state": {
            "_dom_classes": [],
            "_model_module": "@jupyter-widgets/controls",
            "_model_module_version": "1.5.0",
            "_model_name": "HTMLModel",
            "_view_count": null,
            "_view_module": "@jupyter-widgets/controls",
            "_view_module_version": "1.5.0",
            "_view_name": "HTMLView",
            "description": "",
            "description_tooltip": null,
            "layout": "IPY_MODEL_de4f59feca1b4abea0387d78701d253b",
            "placeholder": "​",
            "style": "IPY_MODEL_f9565d898aaf4360a9f58c8377950af0",
            "value": "Map: 100%"
          }
        },
        "873074daca314ccb90ce623a4bf00724": {
          "model_module": "@jupyter-widgets/controls",
          "model_module_version": "1.5.0",
          "model_name": "ProgressStyleModel",
          "state": {
            "_model_module": "@jupyter-widgets/controls",
            "_model_module_version": "1.5.0",
            "_model_name": "ProgressStyleModel",
            "_view_count": null,
            "_view_module": "@jupyter-widgets/base",
            "_view_module_version": "1.2.0",
            "_view_name": "StyleView",
            "bar_color": null,
            "description_width": ""
          }
        },
        "904e397755f14ce08b2645cd937b865e": {
          "model_module": "@jupyter-widgets/controls",
          "model_module_version": "1.5.0",
          "model_name": "DescriptionStyleModel",
          "state": {
            "_model_module": "@jupyter-widgets/controls",
            "_model_module_version": "1.5.0",
            "_model_name": "DescriptionStyleModel",
            "_view_count": null,
            "_view_module": "@jupyter-widgets/base",
            "_view_module_version": "1.2.0",
            "_view_name": "StyleView",
            "description_width": ""
          }
        },
        "9625cc8427b44e9bbf909408e77169a8": {
          "model_module": "@jupyter-widgets/controls",
          "model_module_version": "1.5.0",
          "model_name": "FloatProgressModel",
          "state": {
            "_dom_classes": [],
            "_model_module": "@jupyter-widgets/controls",
            "_model_module_version": "1.5.0",
            "_model_name": "FloatProgressModel",
            "_view_count": null,
            "_view_module": "@jupyter-widgets/controls",
            "_view_module_version": "1.5.0",
            "_view_name": "ProgressView",
            "bar_style": "success",
            "description": "",
            "description_tooltip": null,
            "layout": "IPY_MODEL_20d470ebc58e4a83a2d4f2f7a9050083",
            "max": 480,
            "min": 0,
            "orientation": "horizontal",
            "style": "IPY_MODEL_0be78df8b4b44d319fa7b5a21a38f13a",
            "value": 480
          }
        },
        "9b6221ee1658496a8df14d02e6f6ed25": {
          "model_module": "@jupyter-widgets/controls",
          "model_module_version": "1.5.0",
          "model_name": "HTMLModel",
          "state": {
            "_dom_classes": [],
            "_model_module": "@jupyter-widgets/controls",
            "_model_module_version": "1.5.0",
            "_model_name": "HTMLModel",
            "_view_count": null,
            "_view_module": "@jupyter-widgets/controls",
            "_view_module_version": "1.5.0",
            "_view_name": "HTMLView",
            "description": "",
            "description_tooltip": null,
            "layout": "IPY_MODEL_a53fcc409b4e4c3ea2e43527ae26e6f9",
            "placeholder": "​",
            "style": "IPY_MODEL_9fcc296fb6c446e498bdc47b8c7c435d",
            "value": " 4320/4320 [00:01&lt;00:00, 3475.70 examples/s]"
          }
        },
        "9d70d6d449034b11bd7cbdf9ecedd4db": {
          "model_module": "@jupyter-widgets/controls",
          "model_module_version": "1.5.0",
          "model_name": "HBoxModel",
          "state": {
            "_dom_classes": [],
            "_model_module": "@jupyter-widgets/controls",
            "_model_module_version": "1.5.0",
            "_model_name": "HBoxModel",
            "_view_count": null,
            "_view_module": "@jupyter-widgets/controls",
            "_view_module_version": "1.5.0",
            "_view_name": "HBoxView",
            "box_style": "",
            "children": [
              "IPY_MODEL_aa1d30655e234881a80f1f1423b4c947",
              "IPY_MODEL_5f2198a2d7064a9cba94e5ad1fae8786",
              "IPY_MODEL_9b6221ee1658496a8df14d02e6f6ed25"
            ],
            "layout": "IPY_MODEL_bfe5d3b9b6284d749952f7bec8f79098"
          }
        },
        "9fcc296fb6c446e498bdc47b8c7c435d": {
          "model_module": "@jupyter-widgets/controls",
          "model_module_version": "1.5.0",
          "model_name": "DescriptionStyleModel",
          "state": {
            "_model_module": "@jupyter-widgets/controls",
            "_model_module_version": "1.5.0",
            "_model_name": "DescriptionStyleModel",
            "_view_count": null,
            "_view_module": "@jupyter-widgets/base",
            "_view_module_version": "1.2.0",
            "_view_name": "StyleView",
            "description_width": ""
          }
        },
        "a42dbfeb0b464312b5510bc7972e2671": {
          "model_module": "@jupyter-widgets/base",
          "model_module_version": "1.2.0",
          "model_name": "LayoutModel",
          "state": {
            "_model_module": "@jupyter-widgets/base",
            "_model_module_version": "1.2.0",
            "_model_name": "LayoutModel",
            "_view_count": null,
            "_view_module": "@jupyter-widgets/base",
            "_view_module_version": "1.2.0",
            "_view_name": "LayoutView",
            "align_content": null,
            "align_items": null,
            "align_self": null,
            "border": null,
            "bottom": null,
            "display": null,
            "flex": null,
            "flex_flow": null,
            "grid_area": null,
            "grid_auto_columns": null,
            "grid_auto_flow": null,
            "grid_auto_rows": null,
            "grid_column": null,
            "grid_gap": null,
            "grid_row": null,
            "grid_template_areas": null,
            "grid_template_columns": null,
            "grid_template_rows": null,
            "height": null,
            "justify_content": null,
            "justify_items": null,
            "left": null,
            "margin": null,
            "max_height": null,
            "max_width": null,
            "min_height": null,
            "min_width": null,
            "object_fit": null,
            "object_position": null,
            "order": null,
            "overflow": null,
            "overflow_x": null,
            "overflow_y": null,
            "padding": null,
            "right": null,
            "top": null,
            "visibility": null,
            "width": null
          }
        },
        "a53fcc409b4e4c3ea2e43527ae26e6f9": {
          "model_module": "@jupyter-widgets/base",
          "model_module_version": "1.2.0",
          "model_name": "LayoutModel",
          "state": {
            "_model_module": "@jupyter-widgets/base",
            "_model_module_version": "1.2.0",
            "_model_name": "LayoutModel",
            "_view_count": null,
            "_view_module": "@jupyter-widgets/base",
            "_view_module_version": "1.2.0",
            "_view_name": "LayoutView",
            "align_content": null,
            "align_items": null,
            "align_self": null,
            "border": null,
            "bottom": null,
            "display": null,
            "flex": null,
            "flex_flow": null,
            "grid_area": null,
            "grid_auto_columns": null,
            "grid_auto_flow": null,
            "grid_auto_rows": null,
            "grid_column": null,
            "grid_gap": null,
            "grid_row": null,
            "grid_template_areas": null,
            "grid_template_columns": null,
            "grid_template_rows": null,
            "height": null,
            "justify_content": null,
            "justify_items": null,
            "left": null,
            "margin": null,
            "max_height": null,
            "max_width": null,
            "min_height": null,
            "min_width": null,
            "object_fit": null,
            "object_position": null,
            "order": null,
            "overflow": null,
            "overflow_x": null,
            "overflow_y": null,
            "padding": null,
            "right": null,
            "top": null,
            "visibility": null,
            "width": null
          }
        },
        "aa1d30655e234881a80f1f1423b4c947": {
          "model_module": "@jupyter-widgets/controls",
          "model_module_version": "1.5.0",
          "model_name": "HTMLModel",
          "state": {
            "_dom_classes": [],
            "_model_module": "@jupyter-widgets/controls",
            "_model_module_version": "1.5.0",
            "_model_name": "HTMLModel",
            "_view_count": null,
            "_view_module": "@jupyter-widgets/controls",
            "_view_module_version": "1.5.0",
            "_view_name": "HTMLView",
            "description": "",
            "description_tooltip": null,
            "layout": "IPY_MODEL_41c40144c463477abef9d69e65cacd2d",
            "placeholder": "​",
            "style": "IPY_MODEL_904e397755f14ce08b2645cd937b865e",
            "value": "Map: 100%"
          }
        },
        "b283af80805540dabe4a242ef6a4b381": {
          "model_module": "@jupyter-widgets/base",
          "model_module_version": "1.2.0",
          "model_name": "LayoutModel",
          "state": {
            "_model_module": "@jupyter-widgets/base",
            "_model_module_version": "1.2.0",
            "_model_name": "LayoutModel",
            "_view_count": null,
            "_view_module": "@jupyter-widgets/base",
            "_view_module_version": "1.2.0",
            "_view_name": "LayoutView",
            "align_content": null,
            "align_items": null,
            "align_self": null,
            "border": null,
            "bottom": null,
            "display": null,
            "flex": null,
            "flex_flow": null,
            "grid_area": null,
            "grid_auto_columns": null,
            "grid_auto_flow": null,
            "grid_auto_rows": null,
            "grid_column": null,
            "grid_gap": null,
            "grid_row": null,
            "grid_template_areas": null,
            "grid_template_columns": null,
            "grid_template_rows": null,
            "height": null,
            "justify_content": null,
            "justify_items": null,
            "left": null,
            "margin": null,
            "max_height": null,
            "max_width": null,
            "min_height": null,
            "min_width": null,
            "object_fit": null,
            "object_position": null,
            "order": null,
            "overflow": null,
            "overflow_x": null,
            "overflow_y": null,
            "padding": null,
            "right": null,
            "top": null,
            "visibility": null,
            "width": null
          }
        },
        "bfe5d3b9b6284d749952f7bec8f79098": {
          "model_module": "@jupyter-widgets/base",
          "model_module_version": "1.2.0",
          "model_name": "LayoutModel",
          "state": {
            "_model_module": "@jupyter-widgets/base",
            "_model_module_version": "1.2.0",
            "_model_name": "LayoutModel",
            "_view_count": null,
            "_view_module": "@jupyter-widgets/base",
            "_view_module_version": "1.2.0",
            "_view_name": "LayoutView",
            "align_content": null,
            "align_items": null,
            "align_self": null,
            "border": null,
            "bottom": null,
            "display": null,
            "flex": null,
            "flex_flow": null,
            "grid_area": null,
            "grid_auto_columns": null,
            "grid_auto_flow": null,
            "grid_auto_rows": null,
            "grid_column": null,
            "grid_gap": null,
            "grid_row": null,
            "grid_template_areas": null,
            "grid_template_columns": null,
            "grid_template_rows": null,
            "height": null,
            "justify_content": null,
            "justify_items": null,
            "left": null,
            "margin": null,
            "max_height": null,
            "max_width": null,
            "min_height": null,
            "min_width": null,
            "object_fit": null,
            "object_position": null,
            "order": null,
            "overflow": null,
            "overflow_x": null,
            "overflow_y": null,
            "padding": null,
            "right": null,
            "top": null,
            "visibility": null,
            "width": null
          }
        },
        "de4f59feca1b4abea0387d78701d253b": {
          "model_module": "@jupyter-widgets/base",
          "model_module_version": "1.2.0",
          "model_name": "LayoutModel",
          "state": {
            "_model_module": "@jupyter-widgets/base",
            "_model_module_version": "1.2.0",
            "_model_name": "LayoutModel",
            "_view_count": null,
            "_view_module": "@jupyter-widgets/base",
            "_view_module_version": "1.2.0",
            "_view_name": "LayoutView",
            "align_content": null,
            "align_items": null,
            "align_self": null,
            "border": null,
            "bottom": null,
            "display": null,
            "flex": null,
            "flex_flow": null,
            "grid_area": null,
            "grid_auto_columns": null,
            "grid_auto_flow": null,
            "grid_auto_rows": null,
            "grid_column": null,
            "grid_gap": null,
            "grid_row": null,
            "grid_template_areas": null,
            "grid_template_columns": null,
            "grid_template_rows": null,
            "height": null,
            "justify_content": null,
            "justify_items": null,
            "left": null,
            "margin": null,
            "max_height": null,
            "max_width": null,
            "min_height": null,
            "min_width": null,
            "object_fit": null,
            "object_position": null,
            "order": null,
            "overflow": null,
            "overflow_x": null,
            "overflow_y": null,
            "padding": null,
            "right": null,
            "top": null,
            "visibility": null,
            "width": null
          }
        },
        "e6168c3f3afd405dab4db26ebfe2e928": {
          "model_module": "@jupyter-widgets/controls",
          "model_module_version": "1.5.0",
          "model_name": "HBoxModel",
          "state": {
            "_dom_classes": [],
            "_model_module": "@jupyter-widgets/controls",
            "_model_module_version": "1.5.0",
            "_model_name": "HBoxModel",
            "_view_count": null,
            "_view_module": "@jupyter-widgets/controls",
            "_view_module_version": "1.5.0",
            "_view_name": "HBoxView",
            "box_style": "",
            "children": [
              "IPY_MODEL_791c008207e94243a568bd3eb5b54472",
              "IPY_MODEL_9625cc8427b44e9bbf909408e77169a8",
              "IPY_MODEL_3773e28f5a3a442880743ab63efcdf52"
            ],
            "layout": "IPY_MODEL_a42dbfeb0b464312b5510bc7972e2671"
          }
        },
        "f9565d898aaf4360a9f58c8377950af0": {
          "model_module": "@jupyter-widgets/controls",
          "model_module_version": "1.5.0",
          "model_name": "DescriptionStyleModel",
          "state": {
            "_model_module": "@jupyter-widgets/controls",
            "_model_module_version": "1.5.0",
            "_model_name": "DescriptionStyleModel",
            "_view_count": null,
            "_view_module": "@jupyter-widgets/base",
            "_view_module_version": "1.2.0",
            "_view_name": "StyleView",
            "description_width": ""
          }
        },
        "fe0d929dceeb41d597c8f93f0f2f4953": {
          "model_module": "@jupyter-widgets/controls",
          "model_module_version": "1.5.0",
          "model_name": "DescriptionStyleModel",
          "state": {
            "_model_module": "@jupyter-widgets/controls",
            "_model_module_version": "1.5.0",
            "_model_name": "DescriptionStyleModel",
            "_view_count": null,
            "_view_module": "@jupyter-widgets/base",
            "_view_module_version": "1.2.0",
            "_view_name": "StyleView",
            "description_width": ""
          }
        }
      }
    }
  },
  "nbformat": 4,
  "nbformat_minor": 0
}
