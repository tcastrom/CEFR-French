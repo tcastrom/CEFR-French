{
  "cells": [
    {
      "cell_type": "markdown",
      "metadata": {
        "id": "hoL_GutmFvH4"
      },
      "source": [
        "# Imports"
      ]
    },
    {
      "cell_type": "markdown",
      "metadata": {
        "id": "cK0eOzm2FvH6"
      },
      "source": [
        "!pip install transformers torch datasets optuna scikit-learn"
      ]
    },
    {
      "cell_type": "code",
      "execution_count": null,
      "metadata": {
        "colab": {
          "base_uri": "https://localhost:8080/"
        },
        "id": "C04gYEMiHB1B",
        "outputId": "33da545f-a10e-43b4-97a2-9c45fa519610"
      },
      "outputs": [],
      "source": [
        "!pip install transformers[torch] datasets optuna scikit-learn accelerate"
      ]
    },
    {
      "cell_type": "code",
      "execution_count": null,
      "metadata": {
        "id": "K700LVotFvH6"
      },
      "outputs": [],
      "source": [
        "import optuna\n",
        "from transformers import Trainer, TrainingArguments, CamembertTokenizer, CamembertForSequenceClassification\n",
        "import torch\n",
        "from datasets import load_dataset\n",
        "from transformers import DataCollatorWithPadding, TrainerCallback, TrainerState, TrainerControl\n",
        "import pandas as pd\n",
        "from sklearn.preprocessing import LabelEncoder\n",
        "from transformers import TrainingArguments, Trainer\n",
        "from sklearn.model_selection import train_test_split\n",
        "from datasets import Dataset\n",
        "from transformers import pipeline\n",
        "from transformers import DataCollatorWithPadding, Trainer, TrainingArguments, CamembertTokenizer, CamembertForSequenceClassification\n",
        "import torch\n",
        "import os"
      ]
    },
    {
      "cell_type": "markdown",
      "metadata": {
        "id": "YS0vBmbvFvH8"
      },
      "source": [
        "# Datasets"
      ]
    },
    {
      "cell_type": "code",
      "execution_count": null,
      "metadata": {
        "colab": {
          "base_uri": "https://localhost:8080/",
          "height": 458
        },
        "id": "TnjNUHRPFvH8",
        "outputId": "05189764-0a2f-4a37-9fd5-9f85572a38a3"
      },
      "outputs": [],
      "source": [
        "# Import the train data\n",
        "train = pd.read_csv('https://github.com/tcastrom/CEFR-French-/raw/main/Data/training_data.csv')\n",
        "train.set_index('id', inplace=True)\n",
        "display(train.head())\n",
        "\n",
        "#Import the unlabel data\n",
        "unlabel = pd.read_csv('https://github.com/tcastrom/CEFR-French-/raw/main/Data/unlabelled_test_data.csv')\n",
        "unlabel.set_index('id', inplace=True)\n",
        "display(unlabel.head())"
      ]
    },
    {
      "cell_type": "code",
      "execution_count": null,
      "metadata": {
        "colab": {
          "base_uri": "https://localhost:8080/",
          "height": 345
        },
        "id": "0VG0grWpFvH8",
        "outputId": "4d273dc7-1ab3-4fca-f472-23f46d8aac8f"
      },
      "outputs": [],
      "source": [
        "# Initialize the Labedncoder\n",
        "diffuculty_encoder = LabelEncoder()\n",
        "\n",
        "# Fit and transform the labels\n",
        "train['difficulty'] = diffuculty_encoder.fit_transform(train['difficulty'])\n",
        "\n",
        "# Print the classes and their corresponding encoded values\n",
        "for index, label in enumerate(diffuculty_encoder.classes_):\n",
        "    print(f'{label}: {index}')\n",
        "\n",
        "\n",
        "#Display train\n",
        "display(train.head())"
      ]
    },
    {
      "cell_type": "markdown",
      "metadata": {
        "id": "SBgkblksFvH8"
      },
      "source": [
        "# Tokenisation"
      ]
    },
    {
      "cell_type": "code",
      "execution_count": null,
      "metadata": {
        "colab": {
          "base_uri": "https://localhost:8080/"
        },
        "id": "UYtJeVonFvH9",
        "outputId": "8fcc2983-d0b7-40a3-89c3-ca83660b0d21"
      },
      "outputs": [],
      "source": [
        "# Load the CamemBERT tokenizer and model\n",
        "tokenizer = CamembertTokenizer.from_pretrained('camembert-base')\n",
        "model = CamembertForSequenceClassification.from_pretrained('camembert-base', num_labels=6)"
      ]
    },
    {
      "cell_type": "code",
      "execution_count": null,
      "metadata": {
        "id": "4GqRisTNFvH9"
      },
      "outputs": [],
      "source": [
        "def tokenize_function(examples):\n",
        "    # Tokenize the text\n",
        "    result = tokenizer(examples['sentence'], padding=\"max_length\", truncation=True)\n",
        "    # Ensure labels are included if they exist in the examples\n",
        "    if 'difficulty' in examples:\n",
        "        result['labels'] = examples['difficulty']\n",
        "    return result"
      ]
    },
    {
      "cell_type": "code",
      "execution_count": null,
      "metadata": {
        "colab": {
          "base_uri": "https://localhost:8080/",
          "height": 207
        },
        "id": "KucYJRGaFvH9",
        "outputId": "e814160f-bf6c-424b-d147-d6c80ba9d3c1"
      },
      "outputs": [],
      "source": [
        "# Split the data into train and validation sets\n",
        "train_df, val_df = train_test_split(train, test_size=0.1)\n",
        "\n",
        "display(train_df.head(1))\n",
        "display(val_df.head(1))"
      ]
    },
    {
      "cell_type": "code",
      "execution_count": null,
      "metadata": {
        "colab": {
          "base_uri": "https://localhost:8080/",
          "height": 81,
          "referenced_widgets": [
            "a04c7fda8f214191b87baab3daf9d481",
            "2f2de3fda9874ce3988a141b35a13887",
            "da239693889340f09e458682f01101df",
            "3109314292664dcb96acf4d52e70c0e4",
            "f861da4176734071ad2f69bf8c58ef88",
            "c8037bc0839e493695e1d656bb05d9cd",
            "4846694fdb98444aa4546041e196bc14",
            "efbd2e8e24544c03ab1f37ea822afe5d",
            "f8d527f912aa4b2298e7d5bc31751ae9",
            "8d2c07ccb1924eb8b40c315a96433c5f",
            "23c7228b12754b668b50dc6fd7516106",
            "c8093029ebc94f69a7fc9472928f5783",
            "ce544348cb8f4effaed0c1677319e368",
            "dab4632af27245aab33c88b50a970459",
            "c2379bba41c44caa8bfba29a3dc64117",
            "ac82b02220734c4b82fadacc33513bce",
            "d7c0bd8863964d15ada6e051afed2a93",
            "a088e74791ab498cba6fd81d3106db21",
            "9e7b4471c23c4fcbb9c1c18923c006d3",
            "b28c46ea0d6144c9b35e2f2881e11690",
            "e0f02198810d45eca5e7bb0d376b355c",
            "19a8cf41e9f64a11a37dff0154172c4b"
          ]
        },
        "id": "y6YsktNlFvH-",
        "outputId": "cc62f033-6250-40e4-9882-811b5865a1ba"
      },
      "outputs": [],
      "source": [
        "# Convert pandas dataframe to Hugging Face dataset\n",
        "train_dataset = Dataset.from_pandas(train_df)\n",
        "val_dataset = Dataset.from_pandas(val_df)\n",
        "\n",
        "# Tokenize the data\n",
        "train_dataset = train_dataset.map(tokenize_function, batched=True)\n",
        "val_dataset = val_dataset.map(tokenize_function, batched=True)"
      ]
    },
    {
      "cell_type": "markdown",
      "metadata": {
        "id": "kAK6reQDFvH_"
      },
      "source": [
        "# Optimization with optuna"
      ]
    },
    {
      "cell_type": "code",
      "execution_count": null,
      "metadata": {
        "id": "KIwuQwovFvH_"
      },
      "outputs": [],
      "source": [
        "# Check if GPU is available\n",
        "use_gpu = torch.cuda.is_available()\n",
        "\n",
        "# Define the RDStopping callback\n",
        "class RDStoppingCallback(TrainerCallback):\n",
        "    def __init__(self, threshold=0.01, patience=3):\n",
        "        self.threshold = threshold\n",
        "        self.patience = patience\n",
        "        self.best_loss = None\n",
        "        self.consecutive_below_threshold = 0\n",
        "\n",
        "    def on_evaluate(self, args: TrainingArguments, state: TrainerState, control: TrainerControl, **kwargs):\n",
        "        # Get the current validation loss\n",
        "        logs = kwargs.get(\"metrics\", {})\n",
        "        val_loss = logs.get(\"eval_loss\", None)\n",
        "\n",
        "        if val_loss is not None:\n",
        "            if self.best_loss is None:\n",
        "                self.best_loss = val_loss\n",
        "\n",
        "            # Calculate relative divergence\n",
        "            relative_divergence = abs((self.best_loss - val_loss) / self.best_loss)\n",
        "\n",
        "            if relative_divergence < self.threshold:\n",
        "                self.consecutive_below_threshold += 1\n",
        "                print(f\"Relative divergence below threshold: {relative_divergence:.4f} for {self.consecutive_below_threshold} consecutive evaluations.\")\n",
        "            else:\n",
        "                self.consecutive_below_threshold = 0\n",
        "\n",
        "            # Update the best loss\n",
        "            if val_loss < self.best_loss:\n",
        "                self.best_loss = val_loss\n",
        "\n",
        "            # Stop training if the threshold is not met for `patience` evaluations\n",
        "            if self.consecutive_below_threshold >= self.patience:\n",
        "                control.should_training_stop = True\n",
        "                print(f\"Stopping training as the relative divergence has been below the threshold for {self.patience} consecutive evaluations.\")"
      ]
    },
    {
      "cell_type": "code",
      "execution_count": null,
      "metadata": {
        "id": "y9ZejZVQFvH_"
      },
      "outputs": [],
      "source": [
        "# Use DataCollatorWithPadding to pad the sequences in a batch\n",
        "data_collator = DataCollatorWithPadding(tokenizer)\n",
        "\n",
        "# Define RDStopping callback\n",
        "rd_stopping_callback = [RDStoppingCallback(threshold=0.01, patience=3)]\n",
        "\n",
        "best_models = []"
      ]
    },
    {
      "cell_type": "code",
      "execution_count": null,
      "metadata": {
        "id": "bBSXFJHcFvH_"
      },
      "outputs": [],
      "source": [
        "# Define the objective function\n",
        "def objective(trial):\n",
        "    # Suggest hyperparameters\n",
        "    learning_rate = trial.suggest_loguniform('learning_rate', 1e-5, 1e-4)\n",
        "    batch_size = trial.suggest_categorical('batch_size', [8, 16, 32])\n",
        "    num_train_epochs = trial.suggest_int('num_train_epochs', 3, 10)\n",
        "    weight_decay = trial.suggest_loguniform('weight_decay', 1e-6, 0.1)\n",
        "    gradient_accumulation_steps = trial.suggest_categorical('gradient_accumulation_steps', [1, 2, 4])\n",
        "    warmup_steps = trial.suggest_categorical('warmup_steps', [0, 100, 200, 500])\n",
        "    lr_scheduler_type = trial.suggest_categorical('lr_scheduler_type', ['linear', 'cosine', 'cosine_with_restarts'])\n",
        "\n",
        "    # Define training arguments\n",
        "    training_args = TrainingArguments(\n",
        "        output_dir='./results',\n",
        "        overwrite_output_dir=True,\n",
        "        evaluation_strategy=\"steps\",\n",
        "        eval_steps=100,\n",
        "        learning_rate=learning_rate,\n",
        "        per_device_train_batch_size=batch_size,\n",
        "        per_device_eval_batch_size=batch_size,\n",
        "        gradient_accumulation_steps=gradient_accumulation_steps,\n",
        "        weight_decay=weight_decay,\n",
        "        num_train_epochs=num_train_epochs,\n",
        "        warmup_steps=warmup_steps,\n",
        "        lr_scheduler_type=lr_scheduler_type,\n",
        "        logging_dir='./logs',\n",
        "        logging_steps=100,\n",
        "        save_steps=500,\n",
        "        save_total_limit=3,\n",
        "        seed=42,\n",
        "        fp16=use_gpu,\n",
        "        no_cuda=not use_gpu\n",
        "    )\n",
        "\n",
        "    # Trainer\n",
        "    trainer = Trainer(\n",
        "        model=model,\n",
        "        args=training_args,\n",
        "        train_dataset=train_dataset,\n",
        "        eval_dataset=val_dataset,\n",
        "        data_collator=data_collator,\n",
        "        tokenizer=tokenizer,\n",
        "        callbacks=rd_stopping_callback\n",
        "    )\n",
        "\n",
        "    # Train and evaluate\n",
        "    trainer.train()\n",
        "    eval_results = trainer.evaluate()\n",
        "    eval_loss = eval_results['eval_loss']\n",
        "\n",
        "    # Clear GPU memory\n",
        "    torch.cuda.empty_cache()\n",
        "\n",
        "    # Save model and hyperparameters if it is one of the top 5\n",
        "    if len(best_models) < 5:\n",
        "        best_models.append((eval_loss, trial.params, f'./results/{trial.number}'))\n",
        "        best_models.sort(key=lambda x: x[0])\n",
        "    elif eval_loss < best_models[-1][0]:\n",
        "        # Remove the worst model\n",
        "        worst_model_path = best_models.pop()[2]\n",
        "        if os.path.exists(worst_model_path):\n",
        "            os.system(f'rm -r {worst_model_path}')\n",
        "        best_models.append((eval_loss, trial.params, f'./results/{trial.number}'))\n",
        "        best_models.sort(key=lambda x: x[0])\n",
        "\n",
        "    # Return the evaluation loss for optimization\n",
        "    return eval_results['eval_loss']"
      ]
    },
    {
      "cell_type": "code",
      "execution_count": null,
      "metadata": {
        "colab": {
          "base_uri": "https://localhost:8080/",
          "height": 1000
        },
        "id": "wnCQyCUKFvH_",
        "outputId": "24c67265-5e42-462f-d7c2-36244fe5b3bc"
      },
      "outputs": [],
      "source": [
        "# Create a study and optimize the objective function\n",
        "study = optuna.create_study(direction='minimize')\n",
        "study.optimize(objective, n_trials=10)  # Adjust the number of trials as needed\n"
      ]
    },
    {
      "cell_type": "code",
      "execution_count": null,
      "metadata": {
        "colab": {
          "base_uri": "https://localhost:8080/"
        },
        "id": "CyRqQWlFFvIA",
        "outputId": "df616f1d-38cc-44eb-ed82-33b901a90f64"
      },
      "outputs": [],
      "source": [
        "\n",
        "# Print the best hyperparameters\n",
        "print(f\"Best Hyperparameters: {study.best_params}\")\n",
        "# Print the best hyperparameters and corresponding loss\n",
        "for i, (loss, params, model_path) in enumerate(best_models):\n",
        "    print(f\"Model {i+1} - Loss: {loss}, Hyperparameters: {params}, Model Path: {model_path}\")"
      ]
    },
    {
      "cell_type": "markdown",
      "metadata": {
        "id": "8iOYUBtYFvIA"
      },
      "source": [
        "# Predictions"
      ]
    },
    {
      "cell_type": "code",
      "execution_count": null,
      "metadata": {
        "id": "XjquvK6eFvIB"
      },
      "outputs": [],
      "source": [
        "# Load the top 5 models and their tokenizers\n",
        "model_paths = [\n",
        "    './saved_models/CamemBERT_V1',\n",
        "    './saved_models/CamemBERT_V2',\n",
        "    './saved_models/CamemBERT_V3',\n",
        "    './saved_models/CamemBERT_V4',\n",
        "    './saved_models/CamemBERT_V5'\n",
        "]\n",
        "\n",
        "# Define the label names in the order of their corresponding indices (0 to 5)\n",
        "label_names = ['A1', 'A2', 'B1', 'B2', 'C1', 'C2']\n",
        "\n",
        "display(unlabel.head())"
      ]
    },
    {
      "cell_type": "code",
      "execution_count": null,
      "metadata": {
        "id": "2SInA-RoFvIB"
      },
      "outputs": [],
      "source": [
        "# Function to predict the difficulty of a single sentence using a specific model and tokenizer\n",
        "def predict_difficulty(nlp, sentence):\n",
        "    results = nlp(sentence)\n",
        "    predictions = [{label_names[i]: score for i, score in enumerate(result)} for result in results]\n",
        "    best_prediction = max(predictions[0], key=lambda key: predictions[0][key]['score'])\n",
        "    return best_prediction\n",
        "\n"
      ]
    },
    {
      "cell_type": "code",
      "execution_count": null,
      "metadata": {
        "id": "DJadBnP9FvIB"
      },
      "outputs": [],
      "source": [
        "# Iterate over the models and tokenizers\n",
        "for model_path in model_paths:\n",
        "    model_name = model_path.split('/')[-1]  # Extract model name from path\n",
        "    model = CamembertForSequenceClassification.from_pretrained(model_path)\n",
        "    tokenizer = CamembertTokenizer.from_pretrained(model_path)\n",
        "\n",
        "    # Create a pipeline for text classification\n",
        "    nlp = pipeline(\"text-classification\", model=model, tokenizer=tokenizer, return_all_scores=True)\n",
        "\n",
        "    # Apply the prediction function to each sentence in the 'sentence' column of unlabel DataFrame\n",
        "    unlabel['difficulty'] = unlabel['sentence'].apply(lambda sentence: predict_difficulty(nlp, sentence))\n",
        "\n",
        "    # Export the predictions to a CSV file\n",
        "    output_file = f'/mnt/data/{model_name}.csv'\n",
        "    unlabel.drop('sentence', axis=1, inplace=True)  # Remove the column 'sentence' for the output\n",
        "    unlabel.to_csv(output_file, index=False)\n",
        "\n",
        "    # Reload the original unlabelled data for the next iteration\n",
        "    unlabel = pd.read_csv('/mnt/data/unlabelled_data.csv')"
      ]
    }
  ],
  "metadata": {
    "accelerator": "GPU",
    "colab": {
      "gpuType": "L4",
      "machine_shape": "hm",
      "provenance": []
    },
    "kernelspec": {
      "display_name": "Python 3",
      "name": "python3"
    },
    "language_info": {
      "codemirror_mode": {
        "name": "ipython",
        "version": 3
      },
      "file_extension": ".py",
      "mimetype": "text/x-python",
      "name": "python",
      "nbconvert_exporter": "python",
      "pygments_lexer": "ipython3",
      "version": "3.11.5"
    },
    "widgets": {
      "application/vnd.jupyter.widget-state+json": {
        "19a8cf41e9f64a11a37dff0154172c4b": {
          "model_module": "@jupyter-widgets/controls",
          "model_module_version": "1.5.0",
          "model_name": "DescriptionStyleModel",
          "state": {
            "_model_module": "@jupyter-widgets/controls",
            "_model_module_version": "1.5.0",
            "_model_name": "DescriptionStyleModel",
            "_view_count": null,
            "_view_module": "@jupyter-widgets/base",
            "_view_module_version": "1.2.0",
            "_view_name": "StyleView",
            "description_width": ""
          }
        },
        "23c7228b12754b668b50dc6fd7516106": {
          "model_module": "@jupyter-widgets/controls",
          "model_module_version": "1.5.0",
          "model_name": "DescriptionStyleModel",
          "state": {
            "_model_module": "@jupyter-widgets/controls",
            "_model_module_version": "1.5.0",
            "_model_name": "DescriptionStyleModel",
            "_view_count": null,
            "_view_module": "@jupyter-widgets/base",
            "_view_module_version": "1.2.0",
            "_view_name": "StyleView",
            "description_width": ""
          }
        },
        "2f2de3fda9874ce3988a141b35a13887": {
          "model_module": "@jupyter-widgets/controls",
          "model_module_version": "1.5.0",
          "model_name": "HTMLModel",
          "state": {
            "_dom_classes": [],
            "_model_module": "@jupyter-widgets/controls",
            "_model_module_version": "1.5.0",
            "_model_name": "HTMLModel",
            "_view_count": null,
            "_view_module": "@jupyter-widgets/controls",
            "_view_module_version": "1.5.0",
            "_view_name": "HTMLView",
            "description": "",
            "description_tooltip": null,
            "layout": "IPY_MODEL_c8037bc0839e493695e1d656bb05d9cd",
            "placeholder": "​",
            "style": "IPY_MODEL_4846694fdb98444aa4546041e196bc14",
            "value": "Map: 100%"
          }
        },
        "3109314292664dcb96acf4d52e70c0e4": {
          "model_module": "@jupyter-widgets/controls",
          "model_module_version": "1.5.0",
          "model_name": "HTMLModel",
          "state": {
            "_dom_classes": [],
            "_model_module": "@jupyter-widgets/controls",
            "_model_module_version": "1.5.0",
            "_model_name": "HTMLModel",
            "_view_count": null,
            "_view_module": "@jupyter-widgets/controls",
            "_view_module_version": "1.5.0",
            "_view_name": "HTMLView",
            "description": "",
            "description_tooltip": null,
            "layout": "IPY_MODEL_8d2c07ccb1924eb8b40c315a96433c5f",
            "placeholder": "​",
            "style": "IPY_MODEL_23c7228b12754b668b50dc6fd7516106",
            "value": " 4320/4320 [00:01&lt;00:00, 3543.03 examples/s]"
          }
        },
        "4846694fdb98444aa4546041e196bc14": {
          "model_module": "@jupyter-widgets/controls",
          "model_module_version": "1.5.0",
          "model_name": "DescriptionStyleModel",
          "state": {
            "_model_module": "@jupyter-widgets/controls",
            "_model_module_version": "1.5.0",
            "_model_name": "DescriptionStyleModel",
            "_view_count": null,
            "_view_module": "@jupyter-widgets/base",
            "_view_module_version": "1.2.0",
            "_view_name": "StyleView",
            "description_width": ""
          }
        },
        "8d2c07ccb1924eb8b40c315a96433c5f": {
          "model_module": "@jupyter-widgets/base",
          "model_module_version": "1.2.0",
          "model_name": "LayoutModel",
          "state": {
            "_model_module": "@jupyter-widgets/base",
            "_model_module_version": "1.2.0",
            "_model_name": "LayoutModel",
            "_view_count": null,
            "_view_module": "@jupyter-widgets/base",
            "_view_module_version": "1.2.0",
            "_view_name": "LayoutView",
            "align_content": null,
            "align_items": null,
            "align_self": null,
            "border": null,
            "bottom": null,
            "display": null,
            "flex": null,
            "flex_flow": null,
            "grid_area": null,
            "grid_auto_columns": null,
            "grid_auto_flow": null,
            "grid_auto_rows": null,
            "grid_column": null,
            "grid_gap": null,
            "grid_row": null,
            "grid_template_areas": null,
            "grid_template_columns": null,
            "grid_template_rows": null,
            "height": null,
            "justify_content": null,
            "justify_items": null,
            "left": null,
            "margin": null,
            "max_height": null,
            "max_width": null,
            "min_height": null,
            "min_width": null,
            "object_fit": null,
            "object_position": null,
            "order": null,
            "overflow": null,
            "overflow_x": null,
            "overflow_y": null,
            "padding": null,
            "right": null,
            "top": null,
            "visibility": null,
            "width": null
          }
        },
        "9e7b4471c23c4fcbb9c1c18923c006d3": {
          "model_module": "@jupyter-widgets/base",
          "model_module_version": "1.2.0",
          "model_name": "LayoutModel",
          "state": {
            "_model_module": "@jupyter-widgets/base",
            "_model_module_version": "1.2.0",
            "_model_name": "LayoutModel",
            "_view_count": null,
            "_view_module": "@jupyter-widgets/base",
            "_view_module_version": "1.2.0",
            "_view_name": "LayoutView",
            "align_content": null,
            "align_items": null,
            "align_self": null,
            "border": null,
            "bottom": null,
            "display": null,
            "flex": null,
            "flex_flow": null,
            "grid_area": null,
            "grid_auto_columns": null,
            "grid_auto_flow": null,
            "grid_auto_rows": null,
            "grid_column": null,
            "grid_gap": null,
            "grid_row": null,
            "grid_template_areas": null,
            "grid_template_columns": null,
            "grid_template_rows": null,
            "height": null,
            "justify_content": null,
            "justify_items": null,
            "left": null,
            "margin": null,
            "max_height": null,
            "max_width": null,
            "min_height": null,
            "min_width": null,
            "object_fit": null,
            "object_position": null,
            "order": null,
            "overflow": null,
            "overflow_x": null,
            "overflow_y": null,
            "padding": null,
            "right": null,
            "top": null,
            "visibility": null,
            "width": null
          }
        },
        "a04c7fda8f214191b87baab3daf9d481": {
          "model_module": "@jupyter-widgets/controls",
          "model_module_version": "1.5.0",
          "model_name": "HBoxModel",
          "state": {
            "_dom_classes": [],
            "_model_module": "@jupyter-widgets/controls",
            "_model_module_version": "1.5.0",
            "_model_name": "HBoxModel",
            "_view_count": null,
            "_view_module": "@jupyter-widgets/controls",
            "_view_module_version": "1.5.0",
            "_view_name": "HBoxView",
            "box_style": "",
            "children": [
              "IPY_MODEL_2f2de3fda9874ce3988a141b35a13887",
              "IPY_MODEL_da239693889340f09e458682f01101df",
              "IPY_MODEL_3109314292664dcb96acf4d52e70c0e4"
            ],
            "layout": "IPY_MODEL_f861da4176734071ad2f69bf8c58ef88"
          }
        },
        "a088e74791ab498cba6fd81d3106db21": {
          "model_module": "@jupyter-widgets/controls",
          "model_module_version": "1.5.0",
          "model_name": "DescriptionStyleModel",
          "state": {
            "_model_module": "@jupyter-widgets/controls",
            "_model_module_version": "1.5.0",
            "_model_name": "DescriptionStyleModel",
            "_view_count": null,
            "_view_module": "@jupyter-widgets/base",
            "_view_module_version": "1.2.0",
            "_view_name": "StyleView",
            "description_width": ""
          }
        },
        "ac82b02220734c4b82fadacc33513bce": {
          "model_module": "@jupyter-widgets/base",
          "model_module_version": "1.2.0",
          "model_name": "LayoutModel",
          "state": {
            "_model_module": "@jupyter-widgets/base",
            "_model_module_version": "1.2.0",
            "_model_name": "LayoutModel",
            "_view_count": null,
            "_view_module": "@jupyter-widgets/base",
            "_view_module_version": "1.2.0",
            "_view_name": "LayoutView",
            "align_content": null,
            "align_items": null,
            "align_self": null,
            "border": null,
            "bottom": null,
            "display": null,
            "flex": null,
            "flex_flow": null,
            "grid_area": null,
            "grid_auto_columns": null,
            "grid_auto_flow": null,
            "grid_auto_rows": null,
            "grid_column": null,
            "grid_gap": null,
            "grid_row": null,
            "grid_template_areas": null,
            "grid_template_columns": null,
            "grid_template_rows": null,
            "height": null,
            "justify_content": null,
            "justify_items": null,
            "left": null,
            "margin": null,
            "max_height": null,
            "max_width": null,
            "min_height": null,
            "min_width": null,
            "object_fit": null,
            "object_position": null,
            "order": null,
            "overflow": null,
            "overflow_x": null,
            "overflow_y": null,
            "padding": null,
            "right": null,
            "top": null,
            "visibility": null,
            "width": null
          }
        },
        "b28c46ea0d6144c9b35e2f2881e11690": {
          "model_module": "@jupyter-widgets/controls",
          "model_module_version": "1.5.0",
          "model_name": "ProgressStyleModel",
          "state": {
            "_model_module": "@jupyter-widgets/controls",
            "_model_module_version": "1.5.0",
            "_model_name": "ProgressStyleModel",
            "_view_count": null,
            "_view_module": "@jupyter-widgets/base",
            "_view_module_version": "1.2.0",
            "_view_name": "StyleView",
            "bar_color": null,
            "description_width": ""
          }
        },
        "c2379bba41c44caa8bfba29a3dc64117": {
          "model_module": "@jupyter-widgets/controls",
          "model_module_version": "1.5.0",
          "model_name": "HTMLModel",
          "state": {
            "_dom_classes": [],
            "_model_module": "@jupyter-widgets/controls",
            "_model_module_version": "1.5.0",
            "_model_name": "HTMLModel",
            "_view_count": null,
            "_view_module": "@jupyter-widgets/controls",
            "_view_module_version": "1.5.0",
            "_view_name": "HTMLView",
            "description": "",
            "description_tooltip": null,
            "layout": "IPY_MODEL_e0f02198810d45eca5e7bb0d376b355c",
            "placeholder": "​",
            "style": "IPY_MODEL_19a8cf41e9f64a11a37dff0154172c4b",
            "value": " 480/480 [00:00&lt;00:00, 3254.39 examples/s]"
          }
        },
        "c8037bc0839e493695e1d656bb05d9cd": {
          "model_module": "@jupyter-widgets/base",
          "model_module_version": "1.2.0",
          "model_name": "LayoutModel",
          "state": {
            "_model_module": "@jupyter-widgets/base",
            "_model_module_version": "1.2.0",
            "_model_name": "LayoutModel",
            "_view_count": null,
            "_view_module": "@jupyter-widgets/base",
            "_view_module_version": "1.2.0",
            "_view_name": "LayoutView",
            "align_content": null,
            "align_items": null,
            "align_self": null,
            "border": null,
            "bottom": null,
            "display": null,
            "flex": null,
            "flex_flow": null,
            "grid_area": null,
            "grid_auto_columns": null,
            "grid_auto_flow": null,
            "grid_auto_rows": null,
            "grid_column": null,
            "grid_gap": null,
            "grid_row": null,
            "grid_template_areas": null,
            "grid_template_columns": null,
            "grid_template_rows": null,
            "height": null,
            "justify_content": null,
            "justify_items": null,
            "left": null,
            "margin": null,
            "max_height": null,
            "max_width": null,
            "min_height": null,
            "min_width": null,
            "object_fit": null,
            "object_position": null,
            "order": null,
            "overflow": null,
            "overflow_x": null,
            "overflow_y": null,
            "padding": null,
            "right": null,
            "top": null,
            "visibility": null,
            "width": null
          }
        },
        "c8093029ebc94f69a7fc9472928f5783": {
          "model_module": "@jupyter-widgets/controls",
          "model_module_version": "1.5.0",
          "model_name": "HBoxModel",
          "state": {
            "_dom_classes": [],
            "_model_module": "@jupyter-widgets/controls",
            "_model_module_version": "1.5.0",
            "_model_name": "HBoxModel",
            "_view_count": null,
            "_view_module": "@jupyter-widgets/controls",
            "_view_module_version": "1.5.0",
            "_view_name": "HBoxView",
            "box_style": "",
            "children": [
              "IPY_MODEL_ce544348cb8f4effaed0c1677319e368",
              "IPY_MODEL_dab4632af27245aab33c88b50a970459",
              "IPY_MODEL_c2379bba41c44caa8bfba29a3dc64117"
            ],
            "layout": "IPY_MODEL_ac82b02220734c4b82fadacc33513bce"
          }
        },
        "ce544348cb8f4effaed0c1677319e368": {
          "model_module": "@jupyter-widgets/controls",
          "model_module_version": "1.5.0",
          "model_name": "HTMLModel",
          "state": {
            "_dom_classes": [],
            "_model_module": "@jupyter-widgets/controls",
            "_model_module_version": "1.5.0",
            "_model_name": "HTMLModel",
            "_view_count": null,
            "_view_module": "@jupyter-widgets/controls",
            "_view_module_version": "1.5.0",
            "_view_name": "HTMLView",
            "description": "",
            "description_tooltip": null,
            "layout": "IPY_MODEL_d7c0bd8863964d15ada6e051afed2a93",
            "placeholder": "​",
            "style": "IPY_MODEL_a088e74791ab498cba6fd81d3106db21",
            "value": "Map: 100%"
          }
        },
        "d7c0bd8863964d15ada6e051afed2a93": {
          "model_module": "@jupyter-widgets/base",
          "model_module_version": "1.2.0",
          "model_name": "LayoutModel",
          "state": {
            "_model_module": "@jupyter-widgets/base",
            "_model_module_version": "1.2.0",
            "_model_name": "LayoutModel",
            "_view_count": null,
            "_view_module": "@jupyter-widgets/base",
            "_view_module_version": "1.2.0",
            "_view_name": "LayoutView",
            "align_content": null,
            "align_items": null,
            "align_self": null,
            "border": null,
            "bottom": null,
            "display": null,
            "flex": null,
            "flex_flow": null,
            "grid_area": null,
            "grid_auto_columns": null,
            "grid_auto_flow": null,
            "grid_auto_rows": null,
            "grid_column": null,
            "grid_gap": null,
            "grid_row": null,
            "grid_template_areas": null,
            "grid_template_columns": null,
            "grid_template_rows": null,
            "height": null,
            "justify_content": null,
            "justify_items": null,
            "left": null,
            "margin": null,
            "max_height": null,
            "max_width": null,
            "min_height": null,
            "min_width": null,
            "object_fit": null,
            "object_position": null,
            "order": null,
            "overflow": null,
            "overflow_x": null,
            "overflow_y": null,
            "padding": null,
            "right": null,
            "top": null,
            "visibility": null,
            "width": null
          }
        },
        "da239693889340f09e458682f01101df": {
          "model_module": "@jupyter-widgets/controls",
          "model_module_version": "1.5.0",
          "model_name": "FloatProgressModel",
          "state": {
            "_dom_classes": [],
            "_model_module": "@jupyter-widgets/controls",
            "_model_module_version": "1.5.0",
            "_model_name": "FloatProgressModel",
            "_view_count": null,
            "_view_module": "@jupyter-widgets/controls",
            "_view_module_version": "1.5.0",
            "_view_name": "ProgressView",
            "bar_style": "success",
            "description": "",
            "description_tooltip": null,
            "layout": "IPY_MODEL_efbd2e8e24544c03ab1f37ea822afe5d",
            "max": 4320,
            "min": 0,
            "orientation": "horizontal",
            "style": "IPY_MODEL_f8d527f912aa4b2298e7d5bc31751ae9",
            "value": 4320
          }
        },
        "dab4632af27245aab33c88b50a970459": {
          "model_module": "@jupyter-widgets/controls",
          "model_module_version": "1.5.0",
          "model_name": "FloatProgressModel",
          "state": {
            "_dom_classes": [],
            "_model_module": "@jupyter-widgets/controls",
            "_model_module_version": "1.5.0",
            "_model_name": "FloatProgressModel",
            "_view_count": null,
            "_view_module": "@jupyter-widgets/controls",
            "_view_module_version": "1.5.0",
            "_view_name": "ProgressView",
            "bar_style": "success",
            "description": "",
            "description_tooltip": null,
            "layout": "IPY_MODEL_9e7b4471c23c4fcbb9c1c18923c006d3",
            "max": 480,
            "min": 0,
            "orientation": "horizontal",
            "style": "IPY_MODEL_b28c46ea0d6144c9b35e2f2881e11690",
            "value": 480
          }
        },
        "e0f02198810d45eca5e7bb0d376b355c": {
          "model_module": "@jupyter-widgets/base",
          "model_module_version": "1.2.0",
          "model_name": "LayoutModel",
          "state": {
            "_model_module": "@jupyter-widgets/base",
            "_model_module_version": "1.2.0",
            "_model_name": "LayoutModel",
            "_view_count": null,
            "_view_module": "@jupyter-widgets/base",
            "_view_module_version": "1.2.0",
            "_view_name": "LayoutView",
            "align_content": null,
            "align_items": null,
            "align_self": null,
            "border": null,
            "bottom": null,
            "display": null,
            "flex": null,
            "flex_flow": null,
            "grid_area": null,
            "grid_auto_columns": null,
            "grid_auto_flow": null,
            "grid_auto_rows": null,
            "grid_column": null,
            "grid_gap": null,
            "grid_row": null,
            "grid_template_areas": null,
            "grid_template_columns": null,
            "grid_template_rows": null,
            "height": null,
            "justify_content": null,
            "justify_items": null,
            "left": null,
            "margin": null,
            "max_height": null,
            "max_width": null,
            "min_height": null,
            "min_width": null,
            "object_fit": null,
            "object_position": null,
            "order": null,
            "overflow": null,
            "overflow_x": null,
            "overflow_y": null,
            "padding": null,
            "right": null,
            "top": null,
            "visibility": null,
            "width": null
          }
        },
        "efbd2e8e24544c03ab1f37ea822afe5d": {
          "model_module": "@jupyter-widgets/base",
          "model_module_version": "1.2.0",
          "model_name": "LayoutModel",
          "state": {
            "_model_module": "@jupyter-widgets/base",
            "_model_module_version": "1.2.0",
            "_model_name": "LayoutModel",
            "_view_count": null,
            "_view_module": "@jupyter-widgets/base",
            "_view_module_version": "1.2.0",
            "_view_name": "LayoutView",
            "align_content": null,
            "align_items": null,
            "align_self": null,
            "border": null,
            "bottom": null,
            "display": null,
            "flex": null,
            "flex_flow": null,
            "grid_area": null,
            "grid_auto_columns": null,
            "grid_auto_flow": null,
            "grid_auto_rows": null,
            "grid_column": null,
            "grid_gap": null,
            "grid_row": null,
            "grid_template_areas": null,
            "grid_template_columns": null,
            "grid_template_rows": null,
            "height": null,
            "justify_content": null,
            "justify_items": null,
            "left": null,
            "margin": null,
            "max_height": null,
            "max_width": null,
            "min_height": null,
            "min_width": null,
            "object_fit": null,
            "object_position": null,
            "order": null,
            "overflow": null,
            "overflow_x": null,
            "overflow_y": null,
            "padding": null,
            "right": null,
            "top": null,
            "visibility": null,
            "width": null
          }
        },
        "f861da4176734071ad2f69bf8c58ef88": {
          "model_module": "@jupyter-widgets/base",
          "model_module_version": "1.2.0",
          "model_name": "LayoutModel",
          "state": {
            "_model_module": "@jupyter-widgets/base",
            "_model_module_version": "1.2.0",
            "_model_name": "LayoutModel",
            "_view_count": null,
            "_view_module": "@jupyter-widgets/base",
            "_view_module_version": "1.2.0",
            "_view_name": "LayoutView",
            "align_content": null,
            "align_items": null,
            "align_self": null,
            "border": null,
            "bottom": null,
            "display": null,
            "flex": null,
            "flex_flow": null,
            "grid_area": null,
            "grid_auto_columns": null,
            "grid_auto_flow": null,
            "grid_auto_rows": null,
            "grid_column": null,
            "grid_gap": null,
            "grid_row": null,
            "grid_template_areas": null,
            "grid_template_columns": null,
            "grid_template_rows": null,
            "height": null,
            "justify_content": null,
            "justify_items": null,
            "left": null,
            "margin": null,
            "max_height": null,
            "max_width": null,
            "min_height": null,
            "min_width": null,
            "object_fit": null,
            "object_position": null,
            "order": null,
            "overflow": null,
            "overflow_x": null,
            "overflow_y": null,
            "padding": null,
            "right": null,
            "top": null,
            "visibility": null,
            "width": null
          }
        },
        "f8d527f912aa4b2298e7d5bc31751ae9": {
          "model_module": "@jupyter-widgets/controls",
          "model_module_version": "1.5.0",
          "model_name": "ProgressStyleModel",
          "state": {
            "_model_module": "@jupyter-widgets/controls",
            "_model_module_version": "1.5.0",
            "_model_name": "ProgressStyleModel",
            "_view_count": null,
            "_view_module": "@jupyter-widgets/base",
            "_view_module_version": "1.2.0",
            "_view_name": "StyleView",
            "bar_color": null,
            "description_width": ""
          }
        }
      }
    }
  },
  "nbformat": 4,
  "nbformat_minor": 0
}
